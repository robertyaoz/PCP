{
 "cells": [
  {
   "cell_type": "code",
   "execution_count": 1,
   "id": "d27d0098",
   "metadata": {},
   "outputs": [],
   "source": [
    "import numpy as np\n",
    "import pandas as pd\n",
    "import random as rnd\n",
    "from tqdm import tqdm\n",
    "import matplotlib.pyplot as plt\n",
    "import matplotlib\n",
    "from utils import PCP\n",
    "from sklearn.model_selection import train_test_split\n",
    "from datasets import datasets\n",
    "from sklearn.model_selection import KFold\n",
    "from sklearn.linear_model import Ridge\n",
    "import time\n",
    "import pickle\n",
    "\n",
    "np.random.seed(123456)"
   ]
  },
  {
   "cell_type": "code",
   "execution_count": 2,
   "id": "9c06cc37",
   "metadata": {},
   "outputs": [],
   "source": [
    "dataset_base_path = \"datasets/\"\n",
    "X_1, Y_1 = datasets.GetDataset(\"meps_19\", dataset_base_path)\n",
    "X_2, Y_2 = datasets.GetDataset(\"meps_20\", dataset_base_path)\n",
    "X = np.concatenate([X_1,X_2],axis=0)\n",
    "Y = np.concatenate([Y_1,Y_2],axis=0)"
   ]
  },
  {
   "cell_type": "code",
   "execution_count": null,
   "id": "0a41310e-b806-4757-b80e-e4e47a55a79f",
   "metadata": {},
   "outputs": [],
   "source": [
    "time_pcp = np.zeros((30, 10))\n",
    "\n",
    "for t1 in range(30):\n",
    "    \n",
    "    X_, X_test, Y_, Y_test = train_test_split(X, Y, test_size=1000)\n",
    "    X_train, X_val, Y_train, Y_val = train_test_split(X_, Y_, test_size=10000)\n",
    "\n",
    "    CF = Ridge(alpha=0.001).fit(X_train,Y_train)\n",
    "    R_val = abs(Y_val - CF.predict(X_val))\n",
    "    R_test = abs(Y_test - CF.predict(X_test))\n",
    "\n",
    "    kf = KFold(n_splits=20, shuffle=True)\n",
    "\n",
    "    R_train = np.zeros_like(Y_train)\n",
    "\n",
    "    for train_index, test_index in kf.split(X_train):\n",
    "\n",
    "        model = Ridge(alpha=0.001).fit(X_train[train_index],Y_train[train_index])\n",
    "        R_train[test_index] = abs(Y_train[test_index] - model.predict(X_train[test_index]))\n",
    "\n",
    "    alpha = 0.1\n",
    "    PCP_model = PCP()\n",
    "    PCP_model.train(X_train,R_train)\n",
    "    t2 = 0\n",
    "    for size in range(1000, 11000, 1000):\n",
    "        start = time.time()\n",
    "        q_pcp, coverage_pcp = PCP_model.calibrate(X_val[:size], R_val[:size], X_test, R_test,alpha)\n",
    "        end = time.time()\n",
    "        time_pcp[t1,t2] = end - start\n",
    "        print(f\"Time for size {size}: {time_pcp[t1,t2]} seconds\")\n",
    "        time.sleep(20)\n",
    "        t2 = t2+1"
   ]
  },
  {
   "cell_type": "code",
   "execution_count": 4,
   "id": "f67328cc-7f28-4b6b-81cd-15c7375a23ed",
   "metadata": {},
   "outputs": [],
   "source": [
    "time_pcp_ = np.median(time_pcp,0)[1:]\n",
    "\n",
    "computation_times_minutes = [time / 60 for time in time_pcp_]\n",
    "\n",
    "# Sample sizes for the x-axis\n",
    "sample_size = np.array(range(2000, 11000, 1000))\n",
    "\n",
    "# Plotting the data\n",
    "plt.figure(layout='constrained', figsize=(15, 6))\n",
    "plt.plot(sample_size, computation_times_minutes, marker='o', linestyle='-', color='tab:olive',linewidth=7,markersize=12)\n",
    "plt.xlabel('Sample Size $n$',fontsize = 25)\n",
    "plt.ylabel('Computational Time (minutes)',fontsize = 24)\n",
    "plt.ylim([1.5,6.5])\n",
    "plt.yticks(fontsize = 24)\n",
    "#plt.yticks(np.array(range(1, 7, 1)),fontsize = 24)\n",
    "plt.xticks(sample_size,fontsize = 24.5)\n",
    "plt.grid(True)\n",
    "plt.show()"
   ]
  },
  {
   "cell_type": "code",
   "execution_count": null,
   "id": "7e90554f",
   "metadata": {},
   "outputs": [],
   "source": []
  },
  {
   "cell_type": "code",
   "execution_count": null,
   "id": "845e5bb5",
   "metadata": {},
   "outputs": [],
   "source": []
  }
 ],
 "metadata": {
  "kernelspec": {
   "display_name": "Python 3 (ipykernel)",
   "language": "python",
   "name": "python3"
  },
  "language_info": {
   "codemirror_mode": {
    "name": "ipython",
    "version": 3
   },
   "file_extension": ".py",
   "mimetype": "text/x-python",
   "name": "python",
   "nbconvert_exporter": "python",
   "pygments_lexer": "ipython3",
   "version": "3.9.18"
  }
 },
 "nbformat": 4,
 "nbformat_minor": 5
}
